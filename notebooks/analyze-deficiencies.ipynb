{
 "cells": [
  {
   "cell_type": "markdown",
   "metadata": {},
   "source": [
    "# Analysis of nursing home deficiencies"
   ]
  },
  {
   "cell_type": "code",
   "execution_count": 1,
   "metadata": {},
   "outputs": [],
   "source": [
    "import pandas as pd\n",
    "from datetime import datetime, timedelta"
   ]
  },
  {
   "cell_type": "code",
   "execution_count": 2,
   "metadata": {},
   "outputs": [
    {
     "data": {
      "text/html": [
       "<div>\n",
       "<style scoped>\n",
       "    .dataframe tbody tr th:only-of-type {\n",
       "        vertical-align: middle;\n",
       "    }\n",
       "\n",
       "    .dataframe tbody tr th {\n",
       "        vertical-align: top;\n",
       "    }\n",
       "\n",
       "    .dataframe thead th {\n",
       "        text-align: right;\n",
       "    }\n",
       "</style>\n",
       "<table border=\"1\" class=\"dataframe\">\n",
       "  <thead>\n",
       "    <tr style=\"text-align: right;\">\n",
       "      <th></th>\n",
       "      <th>federal_provider_number</th>\n",
       "      <th>provider_name</th>\n",
       "      <th>provider_address</th>\n",
       "      <th>provider_city</th>\n",
       "      <th>provider_state</th>\n",
       "      <th>provider_zip_code</th>\n",
       "      <th>survey_date</th>\n",
       "      <th>survey_type</th>\n",
       "      <th>deficiency_prefix</th>\n",
       "      <th>deficiency_category</th>\n",
       "      <th>...</th>\n",
       "      <th>deficiency_corrected</th>\n",
       "      <th>correction_date</th>\n",
       "      <th>inspection_cycle</th>\n",
       "      <th>standard_deficiency</th>\n",
       "      <th>complaint_deficiency</th>\n",
       "      <th>location</th>\n",
       "      <th>processing_date</th>\n",
       "      <th>:@computed_region_f3tr_pr43</th>\n",
       "      <th>:@computed_region_nwen_78xc</th>\n",
       "      <th>:@computed_region_csmy_5jwy</th>\n",
       "    </tr>\n",
       "  </thead>\n",
       "  <tbody>\n",
       "    <tr>\n",
       "      <th>0</th>\n",
       "      <td>145121</td>\n",
       "      <td>ALTON MEMORIAL REHAB &amp; THERAPY</td>\n",
       "      <td>1251 COLLEGE AVENUE</td>\n",
       "      <td>ALTON</td>\n",
       "      <td>IL</td>\n",
       "      <td>62002</td>\n",
       "      <td>2018-09-17</td>\n",
       "      <td>Health</td>\n",
       "      <td>F</td>\n",
       "      <td>Resident Rights Deficiencies</td>\n",
       "      <td>...</td>\n",
       "      <td>Deficient, Provider has date of correction</td>\n",
       "      <td>2018-10-03</td>\n",
       "      <td>2</td>\n",
       "      <td>Y</td>\n",
       "      <td>False</td>\n",
       "      <td>{'latitude': '38.904106', 'longitude': '-90.16...</td>\n",
       "      <td>2020-03-01</td>\n",
       "      <td>1749.0</td>\n",
       "      <td>1749.0</td>\n",
       "      <td>34.0</td>\n",
       "    </tr>\n",
       "  </tbody>\n",
       "</table>\n",
       "<p>1 rows × 23 columns</p>\n",
       "</div>"
      ],
      "text/plain": [
       "  federal_provider_number                   provider_name  \\\n",
       "0                  145121  ALTON MEMORIAL REHAB & THERAPY   \n",
       "\n",
       "      provider_address provider_city provider_state provider_zip_code  \\\n",
       "0  1251 COLLEGE AVENUE         ALTON             IL             62002   \n",
       "\n",
       "  survey_date survey_type deficiency_prefix           deficiency_category  \\\n",
       "0  2018-09-17      Health                 F  Resident Rights Deficiencies   \n",
       "\n",
       "   ...                        deficiency_corrected correction_date  \\\n",
       "0  ...  Deficient, Provider has date of correction      2018-10-03   \n",
       "\n",
       "  inspection_cycle standard_deficiency complaint_deficiency  \\\n",
       "0                2                   Y                False   \n",
       "\n",
       "                                            location processing_date  \\\n",
       "0  {'latitude': '38.904106', 'longitude': '-90.16...      2020-03-01   \n",
       "\n",
       "   :@computed_region_f3tr_pr43 :@computed_region_nwen_78xc  \\\n",
       "0                       1749.0                      1749.0   \n",
       "\n",
       "  :@computed_region_csmy_5jwy  \n",
       "0                        34.0  \n",
       "\n",
       "[1 rows x 23 columns]"
      ]
     },
     "execution_count": 2,
     "metadata": {},
     "output_type": "execute_result"
    }
   ],
   "source": [
    "raw_df = pd.read_csv(\n",
    "    \"../data/health_deficiencies.csv\",\n",
    "    parse_dates = [\"survey_date\", \"correction_date\", \"processing_date\"],\n",
    "    dtype = {\n",
    "        \"federal_provider_number\": \"object\",\n",
    "        \"provider_zip_code\": \"object\",\n",
    "        \"deficiency_tag_number\": \"object\",\n",
    "        \"inspection_cycle\": \"object\"\n",
    "    }\n",
    ")\n",
    "\n",
    "raw_df.head(1)"
   ]
  },
  {
   "cell_type": "code",
   "execution_count": 3,
   "metadata": {},
   "outputs": [],
   "source": [
    "#  Mark the deficiencies we care about\n",
    "df = (\n",
    "    raw_df\n",
    "    .assign(\n",
    "        has_infection = lambda x: x[\"deficiency_tag_number\"].isin([\"0880\", \"0441\"]),\n",
    "        has_ulcer = lambda x: x[\"deficiency_tag_number\"].isin([\"0686\", \"0314\"]),\n",
    "        has_med = lambda x: x[\"deficiency_tag_number\"].isin([\"0760\", \"0333\"])\n",
    "    )\n",
    ")"
   ]
  },
  {
   "cell_type": "markdown",
   "metadata": {},
   "source": [
    "How many Nursing Homes are there?"
   ]
  },
  {
   "cell_type": "code",
   "execution_count": 4,
   "metadata": {},
   "outputs": [
    {
     "data": {
      "text/plain": [
       "15302"
      ]
     },
     "execution_count": 4,
     "metadata": {},
     "output_type": "execute_result"
    }
   ],
   "source": [
    "total = df['federal_provider_number'].nunique()\n",
    "\n",
    "total "
   ]
  },
  {
   "cell_type": "markdown",
   "metadata": {},
   "source": [
    "Get survey dataset so we can calculate the universe of facilities within a given inspection period"
   ]
  },
  {
   "cell_type": "code",
   "execution_count": 5,
   "metadata": {},
   "outputs": [],
   "source": [
    "surveys = (\n",
    "    pd\n",
    "    .read_csv(\n",
    "        \"../data/survey.csv\",\n",
    "        dtype = {\"federal_provider_number\": \"object\"},\n",
    "        parse_dates = [\"health_survey_date\"]\n",
    "    )\n",
    ")"
   ]
  },
  {
   "cell_type": "markdown",
   "metadata": {},
   "source": [
    "What is the date range of one cycle?"
   ]
  },
  {
   "cell_type": "code",
   "execution_count": 6,
   "metadata": {},
   "outputs": [
    {
     "data": {
      "text/plain": [
       "count                   15446\n",
       "unique                    542\n",
       "top       2019-11-21 00:00:00\n",
       "freq                      161\n",
       "first     2017-05-18 00:00:00\n",
       "last      2020-02-25 00:00:00\n",
       "Name: health_survey_date, dtype: object"
      ]
     },
     "execution_count": 6,
     "metadata": {},
     "output_type": "execute_result"
    }
   ],
   "source": [
    "(\n",
    "    surveys\n",
    "    .loc[ lambda x: x[\"inspection_cycle\"] == 1 ]\n",
    "    ['health_survey_date']\n",
    "    .describe()\n",
    ")"
   ]
  },
  {
   "cell_type": "markdown",
   "metadata": {},
   "source": [
    "Two cycles?"
   ]
  },
  {
   "cell_type": "code",
   "execution_count": 7,
   "metadata": {},
   "outputs": [
    {
     "data": {
      "text/plain": [
       "count                   30799\n",
       "unique                    966\n",
       "top       2018-11-29 00:00:00\n",
       "freq                      169\n",
       "first     2016-02-02 00:00:00\n",
       "last      2020-02-25 00:00:00\n",
       "Name: health_survey_date, dtype: object"
      ]
     },
     "execution_count": 7,
     "metadata": {},
     "output_type": "execute_result"
    }
   ],
   "source": [
    "(\n",
    "    surveys\n",
    "    .loc[ lambda x: x[\"inspection_cycle\"].isin([1,2]) ]\n",
    "    ['health_survey_date']\n",
    "    .describe()\n",
    ")"
   ]
  },
  {
   "cell_type": "markdown",
   "metadata": {},
   "source": [
    "In an email, CMS said they surveyed 96 facilities between March 23 and April 10 (19 days, including the end date). How many facilities did CMS cover last year in this time period?"
   ]
  },
  {
   "cell_type": "code",
   "execution_count": 8,
   "metadata": {},
   "outputs": [
    {
     "data": {
      "text/plain": [
       "datetime.timedelta(days=18)"
      ]
     },
     "execution_count": 8,
     "metadata": {},
     "output_type": "execute_result"
    }
   ],
   "source": [
    "# Time difference between CMS dates\n",
    "datetime(2020, 4, 10) - datetime(2020, 3, 23)"
   ]
  },
  {
   "cell_type": "code",
   "execution_count": 9,
   "metadata": {},
   "outputs": [
    {
     "data": {
      "text/plain": [
       "datetime.datetime(2019, 4, 12, 0, 0)"
      ]
     },
     "execution_count": 9,
     "metadata": {},
     "output_type": "execute_result"
    }
   ],
   "source": [
    "# Find a similar timeframe last year (starting on a Monday)\n",
    "datetime(2019, 3, 25) + timedelta(days = 18)"
   ]
  },
  {
   "cell_type": "code",
   "execution_count": 10,
   "metadata": {},
   "outputs": [
    {
     "data": {
      "text/plain": [
       "925"
      ]
     },
     "execution_count": 10,
     "metadata": {},
     "output_type": "execute_result"
    }
   ],
   "source": [
    "# Calculate same time period last year, including the last day to make 19 days\n",
    "last19 = (\n",
    "    surveys\n",
    "    .loc[\n",
    "        lambda x: (x[\"health_survey_date\"] >= \"2019-03-25\") & (x[\"health_survey_date\"] <= \"2019-04-12\")\n",
    "    ]\n",
    ")\n",
    "\n",
    "len(last19)"
   ]
  },
  {
   "cell_type": "markdown",
   "metadata": {},
   "source": [
    "Aggregate violations"
   ]
  },
  {
   "cell_type": "code",
   "execution_count": 11,
   "metadata": {},
   "outputs": [
    {
     "data": {
      "text/html": [
       "<div>\n",
       "<style scoped>\n",
       "    .dataframe tbody tr th:only-of-type {\n",
       "        vertical-align: middle;\n",
       "    }\n",
       "\n",
       "    .dataframe tbody tr th {\n",
       "        vertical-align: top;\n",
       "    }\n",
       "\n",
       "    .dataframe thead th {\n",
       "        text-align: right;\n",
       "    }\n",
       "</style>\n",
       "<table border=\"1\" class=\"dataframe\">\n",
       "  <thead>\n",
       "    <tr style=\"text-align: right;\">\n",
       "      <th></th>\n",
       "      <th>Deficiencies</th>\n",
       "    </tr>\n",
       "  </thead>\n",
       "  <tbody>\n",
       "    <tr>\n",
       "      <th>total_number_of_health_deficiencies</th>\n",
       "      <td>6388</td>\n",
       "    </tr>\n",
       "    <tr>\n",
       "      <th>count_of_immediate_jeopardy_deficiencies_on_health_survey</th>\n",
       "      <td>1127</td>\n",
       "    </tr>\n",
       "  </tbody>\n",
       "</table>\n",
       "</div>"
      ],
      "text/plain": [
       "                                                    Deficiencies\n",
       "total_number_of_health_deficiencies                         6388\n",
       "count_of_immediate_jeopardy_deficiencies_on_hea...          1127"
      ]
     },
     "execution_count": 11,
     "metadata": {},
     "output_type": "execute_result"
    }
   ],
   "source": [
    "(\n",
    "    last19\n",
    "    [[\n",
    "        \"total_number_of_health_deficiencies\",\n",
    "        \"count_of_immediate_jeopardy_deficiencies_on_health_survey\",\n",
    "    ]]\n",
    "    .sum()\n",
    "    .to_frame(\"Deficiencies\")\n",
    ")"
   ]
  },
  {
   "cell_type": "markdown",
   "metadata": {},
   "source": [
    "## Examining \"immediate jeopardy\" violations"
   ]
  },
  {
   "cell_type": "markdown",
   "metadata": {},
   "source": [
    "How many \"immmediate jeopardy\" (I, J, K) violations happen?"
   ]
  },
  {
   "cell_type": "code",
   "execution_count": 12,
   "metadata": {},
   "outputs": [],
   "source": [
    "# Make a df with the flags we need\n",
    "ij = (\n",
    "    raw_df\n",
    "    .assign(\n",
    "        year = lambda x: x[\"survey_date\"].dt.year,\n",
    "        immediate_jeopardy = lambda x: x[\"scope_severity_code\"].isin([\"J\", \"K\", \"L\"]),\n",
    "        isolated = lambda x: x[\"scope_severity_code\"] == \"J\",\n",
    "        pattern = lambda x: x[\"scope_severity_code\"] == \"K\",\n",
    "        widespread = lambda x: x[\"scope_severity_code\"] == \"L\"   \n",
    "    )\n",
    ")"
   ]
  },
  {
   "cell_type": "markdown",
   "metadata": {},
   "source": [
    "Violations since 2017"
   ]
  },
  {
   "cell_type": "code",
   "execution_count": 13,
   "metadata": {},
   "outputs": [
    {
     "data": {
      "text/plain": [
       "5594"
      ]
     },
     "execution_count": 13,
     "metadata": {},
     "output_type": "execute_result"
    }
   ],
   "source": [
    "(\n",
    "    ij\n",
    "    .loc[\n",
    "        lambda x: x[\"survey_date\"] >= \"2017-01-01\"\n",
    "    ]\n",
    "    [\"immediate_jeopardy\"]\n",
    "    .sum()\n",
    ")"
   ]
  },
  {
   "cell_type": "markdown",
   "metadata": {},
   "source": [
    "Violations just in 2019"
   ]
  },
  {
   "cell_type": "code",
   "execution_count": 14,
   "metadata": {},
   "outputs": [
    {
     "data": {
      "text/plain": [
       "1869"
      ]
     },
     "execution_count": 14,
     "metadata": {},
     "output_type": "execute_result"
    }
   ],
   "source": [
    "(\n",
    "    ij\n",
    "    .loc[\n",
    "        lambda x: x[\"survey_date\"] >= \"2019-01-01\"\n",
    "    ]\n",
    "    [\"immediate_jeopardy\"]\n",
    "    .sum()\n",
    ")"
   ]
  },
  {
   "cell_type": "markdown",
   "metadata": {},
   "source": [
    "Number of homes with immediate jeopardy violations since 2017"
   ]
  },
  {
   "cell_type": "code",
   "execution_count": 15,
   "metadata": {},
   "outputs": [
    {
     "data": {
      "text/plain": [
       "2485"
      ]
     },
     "execution_count": 15,
     "metadata": {},
     "output_type": "execute_result"
    }
   ],
   "source": [
    "(\n",
    "    ij\n",
    "    .loc[\n",
    "        lambda x: x[\"survey_date\"] >= \"2017-01-1\"\n",
    "    ]\n",
    "    .loc[\n",
    "        lambda x: x[\"immediate_jeopardy\"] == True\n",
    "    ]\n",
    "    [\"federal_provider_number\"]\n",
    "    .nunique()\n",
    ")"
   ]
  },
  {
   "cell_type": "markdown",
   "metadata": {},
   "source": [
    "## Examining specific deficiencies"
   ]
  },
  {
   "cell_type": "markdown",
   "metadata": {},
   "source": [
    "Raw numbers on facilities with ulcers since 2018"
   ]
  },
  {
   "cell_type": "code",
   "execution_count": 16,
   "metadata": {},
   "outputs": [
    {
     "data": {
      "text/plain": [
       "3376"
      ]
     },
     "execution_count": 16,
     "metadata": {},
     "output_type": "execute_result"
    }
   ],
   "source": [
    "(\n",
    "    df\n",
    "    .loc[ lambda x: x[\"standard_deficiency\"] == \"Y\" ]\n",
    "    .loc[ lambda x: x[\"survey_date\"] >= \"2018-01-01\" ]\n",
    "    .loc[ lambda x: x[\"has_ulcer\"]]\n",
    "    [\"federal_provider_number\"]\n",
    "    .nunique()\n",
    ")"
   ]
  },
  {
   "cell_type": "markdown",
   "metadata": {},
   "source": [
    "Raw numbers on facilities with medicine errors since 2018"
   ]
  },
  {
   "cell_type": "code",
   "execution_count": 17,
   "metadata": {},
   "outputs": [
    {
     "data": {
      "text/plain": [
       "1250"
      ]
     },
     "execution_count": 17,
     "metadata": {},
     "output_type": "execute_result"
    }
   ],
   "source": [
    "(\n",
    "    df\n",
    "    .loc[ lambda x: x[\"standard_deficiency\"] == \"Y\" ]\n",
    "    .loc[ lambda x: x[\"survey_date\"] >= \"2018-01-01\" ]\n",
    "    .loc[ lambda x: x[\"has_med\"] ]\n",
    "    [\"federal_provider_number\"]\n",
    "    .nunique()\n",
    ")"
   ]
  },
  {
   "cell_type": "markdown",
   "metadata": {},
   "source": [
    "Count health inspection deficiencies per cycle"
   ]
  },
  {
   "cell_type": "code",
   "execution_count": 18,
   "metadata": {},
   "outputs": [],
   "source": [
    "# helper function to return count and percent for deficiencies given a filtered dataframe\n",
    "def count_cycles(df):\n",
    "    \n",
    "    cycles = df['inspection_cycle'].unique()\n",
    "    \n",
    "    total = surveys.loc[\n",
    "        lambda x: x[\"inspection_cycle\"].isin(cycles)\n",
    "    ]['federal_provider_number'].nunique()\n",
    "\n",
    "    print(\"total =\", total)\n",
    "    \n",
    "    return (\n",
    "        df\n",
    "        .groupby(\"federal_provider_number\")\n",
    "        .pipe(lambda grp: pd.DataFrame(\n",
    "            {\n",
    "                \"has infection deficiencies\": grp[\"has_infection\"].any(),\n",
    "                \"has pressure sore deficiencies\": grp[\"has_ulcer\"].any(),\n",
    "                \"has significant medicine errors\": grp[\"has_med\"].any()\n",
    "            })\n",
    "        )\n",
    "        .sum()\n",
    "        .to_frame(\"count\")\n",
    "        .assign(\n",
    "            percent = lambda frame: (frame[\"count\"]/total) * 100 \n",
    "        )\n",
    "    )\n",
    "    "
   ]
  },
  {
   "cell_type": "markdown",
   "metadata": {},
   "source": [
    "Last standard inspection"
   ]
  },
  {
   "cell_type": "code",
   "execution_count": 19,
   "metadata": {},
   "outputs": [
    {
     "name": "stdout",
     "output_type": "stream",
     "text": [
      "total = 15446\n"
     ]
    },
    {
     "data": {
      "text/html": [
       "<div>\n",
       "<style scoped>\n",
       "    .dataframe tbody tr th:only-of-type {\n",
       "        vertical-align: middle;\n",
       "    }\n",
       "\n",
       "    .dataframe tbody tr th {\n",
       "        vertical-align: top;\n",
       "    }\n",
       "\n",
       "    .dataframe thead th {\n",
       "        text-align: right;\n",
       "    }\n",
       "</style>\n",
       "<table border=\"1\" class=\"dataframe\">\n",
       "  <thead>\n",
       "    <tr style=\"text-align: right;\">\n",
       "      <th></th>\n",
       "      <th>count</th>\n",
       "      <th>percent</th>\n",
       "    </tr>\n",
       "  </thead>\n",
       "  <tbody>\n",
       "    <tr>\n",
       "      <th>has infection deficiencies</th>\n",
       "      <td>6307</td>\n",
       "      <td>40.832578</td>\n",
       "    </tr>\n",
       "    <tr>\n",
       "      <th>has pressure sore deficiencies</th>\n",
       "      <td>1932</td>\n",
       "      <td>12.508093</td>\n",
       "    </tr>\n",
       "    <tr>\n",
       "      <th>has significant medicine errors</th>\n",
       "      <td>712</td>\n",
       "      <td>4.609608</td>\n",
       "    </tr>\n",
       "  </tbody>\n",
       "</table>\n",
       "</div>"
      ],
      "text/plain": [
       "                                 count    percent\n",
       "has infection deficiencies        6307  40.832578\n",
       "has pressure sore deficiencies    1932  12.508093\n",
       "has significant medicine errors    712   4.609608"
      ]
     },
     "execution_count": 19,
     "metadata": {},
     "output_type": "execute_result"
    }
   ],
   "source": [
    "count_cycles(\n",
    "   df\n",
    "    .loc[\n",
    "        lambda x: x[\"standard_deficiency\"] == \"Y\"\n",
    "    ]\n",
    "    .loc[\n",
    "        lambda x: x[\"inspection_cycle\"] == \"1\"\n",
    "    ]\n",
    ")"
   ]
  },
  {
   "cell_type": "markdown",
   "metadata": {},
   "source": [
    "Last two standard inspections"
   ]
  },
  {
   "cell_type": "code",
   "execution_count": 20,
   "metadata": {},
   "outputs": [
    {
     "name": "stdout",
     "output_type": "stream",
     "text": [
      "total = 15446\n"
     ]
    },
    {
     "data": {
      "text/html": [
       "<div>\n",
       "<style scoped>\n",
       "    .dataframe tbody tr th:only-of-type {\n",
       "        vertical-align: middle;\n",
       "    }\n",
       "\n",
       "    .dataframe tbody tr th {\n",
       "        vertical-align: top;\n",
       "    }\n",
       "\n",
       "    .dataframe thead th {\n",
       "        text-align: right;\n",
       "    }\n",
       "</style>\n",
       "<table border=\"1\" class=\"dataframe\">\n",
       "  <thead>\n",
       "    <tr style=\"text-align: right;\">\n",
       "      <th></th>\n",
       "      <th>count</th>\n",
       "      <th>percent</th>\n",
       "    </tr>\n",
       "  </thead>\n",
       "  <tbody>\n",
       "    <tr>\n",
       "      <th>has infection deficiencies</th>\n",
       "      <td>9421</td>\n",
       "      <td>60.993137</td>\n",
       "    </tr>\n",
       "    <tr>\n",
       "      <th>has pressure sore deficiencies</th>\n",
       "      <td>3549</td>\n",
       "      <td>22.976822</td>\n",
       "    </tr>\n",
       "    <tr>\n",
       "      <th>has significant medicine errors</th>\n",
       "      <td>1327</td>\n",
       "      <td>8.591221</td>\n",
       "    </tr>\n",
       "  </tbody>\n",
       "</table>\n",
       "</div>"
      ],
      "text/plain": [
       "                                 count    percent\n",
       "has infection deficiencies        9421  60.993137\n",
       "has pressure sore deficiencies    3549  22.976822\n",
       "has significant medicine errors   1327   8.591221"
      ]
     },
     "execution_count": 20,
     "metadata": {},
     "output_type": "execute_result"
    }
   ],
   "source": [
    "count_cycles(\n",
    "    df\n",
    "    .loc[\n",
    "        lambda x: x[\"inspection_cycle\"].isin([\"1\",\"2\"])\n",
    "    ]\n",
    "    .loc[\n",
    "        lambda x: x[\"standard_deficiency\"] == \"Y\"\n",
    "    ]\n",
    ")"
   ]
  },
  {
   "cell_type": "markdown",
   "metadata": {},
   "source": [
    "Last inspection cycle, complaints included"
   ]
  },
  {
   "cell_type": "code",
   "execution_count": 21,
   "metadata": {},
   "outputs": [
    {
     "name": "stdout",
     "output_type": "stream",
     "text": [
      "total = 15446\n"
     ]
    },
    {
     "data": {
      "text/html": [
       "<div>\n",
       "<style scoped>\n",
       "    .dataframe tbody tr th:only-of-type {\n",
       "        vertical-align: middle;\n",
       "    }\n",
       "\n",
       "    .dataframe tbody tr th {\n",
       "        vertical-align: top;\n",
       "    }\n",
       "\n",
       "    .dataframe thead th {\n",
       "        text-align: right;\n",
       "    }\n",
       "</style>\n",
       "<table border=\"1\" class=\"dataframe\">\n",
       "  <thead>\n",
       "    <tr style=\"text-align: right;\">\n",
       "      <th></th>\n",
       "      <th>count</th>\n",
       "      <th>percent</th>\n",
       "    </tr>\n",
       "  </thead>\n",
       "  <tbody>\n",
       "    <tr>\n",
       "      <th>has infection deficiencies</th>\n",
       "      <td>6598</td>\n",
       "      <td>42.716561</td>\n",
       "    </tr>\n",
       "    <tr>\n",
       "      <th>has pressure sore deficiencies</th>\n",
       "      <td>2440</td>\n",
       "      <td>15.796970</td>\n",
       "    </tr>\n",
       "    <tr>\n",
       "      <th>has significant medicine errors</th>\n",
       "      <td>1102</td>\n",
       "      <td>7.134533</td>\n",
       "    </tr>\n",
       "  </tbody>\n",
       "</table>\n",
       "</div>"
      ],
      "text/plain": [
       "                                 count    percent\n",
       "has infection deficiencies        6598  42.716561\n",
       "has pressure sore deficiencies    2440  15.796970\n",
       "has significant medicine errors   1102   7.134533"
      ]
     },
     "execution_count": 21,
     "metadata": {},
     "output_type": "execute_result"
    }
   ],
   "source": [
    "count_cycles(\n",
    "    df\n",
    "    .loc[\n",
    "        lambda x: x[\"inspection_cycle\"].isin([\"1\"])\n",
    "    ]\n",
    ")"
   ]
  },
  {
   "cell_type": "markdown",
   "metadata": {},
   "source": [
    "Last two inspection cycles, complaints included"
   ]
  },
  {
   "cell_type": "code",
   "execution_count": 22,
   "metadata": {},
   "outputs": [
    {
     "name": "stdout",
     "output_type": "stream",
     "text": [
      "total = 15446\n"
     ]
    },
    {
     "data": {
      "text/html": [
       "<div>\n",
       "<style scoped>\n",
       "    .dataframe tbody tr th:only-of-type {\n",
       "        vertical-align: middle;\n",
       "    }\n",
       "\n",
       "    .dataframe tbody tr th {\n",
       "        vertical-align: top;\n",
       "    }\n",
       "\n",
       "    .dataframe thead th {\n",
       "        text-align: right;\n",
       "    }\n",
       "</style>\n",
       "<table border=\"1\" class=\"dataframe\">\n",
       "  <thead>\n",
       "    <tr style=\"text-align: right;\">\n",
       "      <th></th>\n",
       "      <th>count</th>\n",
       "      <th>percent</th>\n",
       "    </tr>\n",
       "  </thead>\n",
       "  <tbody>\n",
       "    <tr>\n",
       "      <th>has infection deficiencies</th>\n",
       "      <td>9763</td>\n",
       "      <td>63.207303</td>\n",
       "    </tr>\n",
       "    <tr>\n",
       "      <th>has pressure sore deficiencies</th>\n",
       "      <td>4297</td>\n",
       "      <td>27.819500</td>\n",
       "    </tr>\n",
       "    <tr>\n",
       "      <th>has significant medicine errors</th>\n",
       "      <td>1994</td>\n",
       "      <td>12.909491</td>\n",
       "    </tr>\n",
       "  </tbody>\n",
       "</table>\n",
       "</div>"
      ],
      "text/plain": [
       "                                 count    percent\n",
       "has infection deficiencies        9763  63.207303\n",
       "has pressure sore deficiencies    4297  27.819500\n",
       "has significant medicine errors   1994  12.909491"
      ]
     },
     "execution_count": 22,
     "metadata": {},
     "output_type": "execute_result"
    }
   ],
   "source": [
    "count_cycles(\n",
    "    df\n",
    "    .loc[\n",
    "        lambda x: x[\"inspection_cycle\"].isin([\"1\",\"2\"])\n",
    "    ]\n",
    ")"
   ]
  },
  {
   "cell_type": "markdown",
   "metadata": {},
   "source": [
    "Count infection control OR ulcer violation"
   ]
  },
  {
   "cell_type": "code",
   "execution_count": 23,
   "metadata": {},
   "outputs": [
    {
     "name": "stdout",
     "output_type": "stream",
     "text": [
      "total = "
     ]
    },
    {
     "name": "stdout",
     "output_type": "stream",
     "text": [
      "15446\n"
     ]
    },
    {
     "data": {
      "text/html": [
       "<div>\n",
       "<style scoped>\n",
       "    .dataframe tbody tr th:only-of-type {\n",
       "        vertical-align: middle;\n",
       "    }\n",
       "\n",
       "    .dataframe tbody tr th {\n",
       "        vertical-align: top;\n",
       "    }\n",
       "\n",
       "    .dataframe thead th {\n",
       "        text-align: right;\n",
       "    }\n",
       "</style>\n",
       "<table border=\"1\" class=\"dataframe\">\n",
       "  <thead>\n",
       "    <tr style=\"text-align: right;\">\n",
       "      <th></th>\n",
       "      <th>count</th>\n",
       "      <th>percent</th>\n",
       "    </tr>\n",
       "  </thead>\n",
       "  <tbody>\n",
       "    <tr>\n",
       "      <th>has infection control or ulcer</th>\n",
       "      <td>10773</td>\n",
       "      <td>69.746213</td>\n",
       "    </tr>\n",
       "  </tbody>\n",
       "</table>\n",
       "</div>"
      ],
      "text/plain": [
       "                                count    percent\n",
       "has infection control or ulcer  10773  69.746213"
      ]
     },
     "execution_count": 23,
     "metadata": {},
     "output_type": "execute_result"
    }
   ],
   "source": [
    "total = surveys.loc[\n",
    "    lambda x: x[\"inspection_cycle\"].isin([\"1\", \"2\"])\n",
    "]['federal_provider_number'].nunique()\n",
    "\n",
    "print(\"total =\", total)\n",
    "\n",
    "(\n",
    "    df\n",
    "    .loc[\n",
    "        lambda x: x[\"inspection_cycle\"].isin([\"1\",\"2\"])\n",
    "    ]\n",
    "    .groupby(\"federal_provider_number\")\n",
    "    .pipe(lambda grp: pd.DataFrame({\n",
    "            \"has infection control or ulcer\": grp[\"has_infection\"].any() | grp[\"has_ulcer\"].any()\n",
    "        })\n",
    "    )\n",
    "    .sum()\n",
    "    .to_frame(\"count\")\n",
    "    .assign(\n",
    "        percent = lambda frame: (frame[\"count\"]/total) * 100 \n",
    "    )\n",
    ")"
   ]
  },
  {
   "cell_type": "markdown",
   "metadata": {},
   "source": [
    "Proportion of facilities with standard deficiencies by state since last inspection"
   ]
  },
  {
   "cell_type": "code",
   "execution_count": 24,
   "metadata": {},
   "outputs": [
    {
     "data": {
      "text/html": [
       "<div>\n",
       "<style scoped>\n",
       "    .dataframe tbody tr th:only-of-type {\n",
       "        vertical-align: middle;\n",
       "    }\n",
       "\n",
       "    .dataframe tbody tr th {\n",
       "        vertical-align: top;\n",
       "    }\n",
       "\n",
       "    .dataframe thead th {\n",
       "        text-align: right;\n",
       "    }\n",
       "</style>\n",
       "<table border=\"1\" class=\"dataframe\">\n",
       "  <thead>\n",
       "    <tr style=\"text-align: right;\">\n",
       "      <th></th>\n",
       "      <th>provider_state</th>\n",
       "      <th>total_facilities</th>\n",
       "    </tr>\n",
       "  </thead>\n",
       "  <tbody>\n",
       "    <tr>\n",
       "      <th>0</th>\n",
       "      <td>AK</td>\n",
       "      <td>19</td>\n",
       "    </tr>\n",
       "    <tr>\n",
       "      <th>1</th>\n",
       "      <td>AL</td>\n",
       "      <td>228</td>\n",
       "    </tr>\n",
       "    <tr>\n",
       "      <th>2</th>\n",
       "      <td>AR</td>\n",
       "      <td>225</td>\n",
       "    </tr>\n",
       "    <tr>\n",
       "      <th>3</th>\n",
       "      <td>AZ</td>\n",
       "      <td>146</td>\n",
       "    </tr>\n",
       "    <tr>\n",
       "      <th>4</th>\n",
       "      <td>CA</td>\n",
       "      <td>1193</td>\n",
       "    </tr>\n",
       "  </tbody>\n",
       "</table>\n",
       "</div>"
      ],
      "text/plain": [
       "  provider_state  total_facilities\n",
       "0             AK                19\n",
       "1             AL               228\n",
       "2             AR               225\n",
       "3             AZ               146\n",
       "4             CA              1193"
      ]
     },
     "execution_count": 24,
     "metadata": {},
     "output_type": "execute_result"
    }
   ],
   "source": [
    "state_lookup = (\n",
    "    surveys\n",
    "    .loc[\n",
    "        lambda x: x[\"inspection_cycle\"].isin([1,2])\n",
    "    ]\n",
    "    .groupby('provider_state')\n",
    "    .agg(\n",
    "        {\"federal_provider_number\": \"nunique\"}\n",
    "    )\n",
    "    .reset_index()\n",
    "    .rename(\n",
    "        columns = {\"federal_provider_number\": \"total_facilities\"}\n",
    "    )\n",
    ")\n",
    "\n",
    "state_lookup.head()"
   ]
  },
  {
   "cell_type": "code",
   "execution_count": 25,
   "metadata": {},
   "outputs": [
    {
     "data": {
      "text/html": [
       "<div>\n",
       "<style scoped>\n",
       "    .dataframe tbody tr th:only-of-type {\n",
       "        vertical-align: middle;\n",
       "    }\n",
       "\n",
       "    .dataframe tbody tr th {\n",
       "        vertical-align: top;\n",
       "    }\n",
       "\n",
       "    .dataframe thead th {\n",
       "        text-align: right;\n",
       "    }\n",
       "</style>\n",
       "<table border=\"1\" class=\"dataframe\">\n",
       "  <thead>\n",
       "    <tr style=\"text-align: right;\">\n",
       "      <th></th>\n",
       "      <th>provider_state</th>\n",
       "      <th>infection deficiencies</th>\n",
       "      <th>sore deficiencies</th>\n",
       "      <th>med deficiencies</th>\n",
       "      <th>total_facilities</th>\n",
       "      <th>percent_infection</th>\n",
       "      <th>percent_sores</th>\n",
       "      <th>percent_med</th>\n",
       "    </tr>\n",
       "  </thead>\n",
       "  <tbody>\n",
       "    <tr>\n",
       "      <th>11</th>\n",
       "      <td>GU</td>\n",
       "      <td>1.0</td>\n",
       "      <td>0.0</td>\n",
       "      <td>0.0</td>\n",
       "      <td>1</td>\n",
       "      <td>100.000000</td>\n",
       "      <td>0.000000</td>\n",
       "      <td>0.000000</td>\n",
       "    </tr>\n",
       "    <tr>\n",
       "      <th>4</th>\n",
       "      <td>CA</td>\n",
       "      <td>964.0</td>\n",
       "      <td>317.0</td>\n",
       "      <td>137.0</td>\n",
       "      <td>1193</td>\n",
       "      <td>80.804694</td>\n",
       "      <td>26.571668</td>\n",
       "      <td>11.483655</td>\n",
       "    </tr>\n",
       "    <tr>\n",
       "      <th>51</th>\n",
       "      <td>WV</td>\n",
       "      <td>99.0</td>\n",
       "      <td>25.0</td>\n",
       "      <td>5.0</td>\n",
       "      <td>123</td>\n",
       "      <td>80.487805</td>\n",
       "      <td>20.325203</td>\n",
       "      <td>4.065041</td>\n",
       "    </tr>\n",
       "    <tr>\n",
       "      <th>14</th>\n",
       "      <td>ID</td>\n",
       "      <td>66.0</td>\n",
       "      <td>34.0</td>\n",
       "      <td>6.0</td>\n",
       "      <td>82</td>\n",
       "      <td>80.487805</td>\n",
       "      <td>41.463415</td>\n",
       "      <td>7.317073</td>\n",
       "    </tr>\n",
       "    <tr>\n",
       "      <th>33</th>\n",
       "      <td>NM</td>\n",
       "      <td>55.0</td>\n",
       "      <td>21.0</td>\n",
       "      <td>10.0</td>\n",
       "      <td>71</td>\n",
       "      <td>77.464789</td>\n",
       "      <td>29.577465</td>\n",
       "      <td>14.084507</td>\n",
       "    </tr>\n",
       "    <tr>\n",
       "      <th>12</th>\n",
       "      <td>HI</td>\n",
       "      <td>34.0</td>\n",
       "      <td>9.0</td>\n",
       "      <td>4.0</td>\n",
       "      <td>44</td>\n",
       "      <td>77.272727</td>\n",
       "      <td>20.454545</td>\n",
       "      <td>9.090909</td>\n",
       "    </tr>\n",
       "    <tr>\n",
       "      <th>23</th>\n",
       "      <td>MI</td>\n",
       "      <td>341.0</td>\n",
       "      <td>185.0</td>\n",
       "      <td>51.0</td>\n",
       "      <td>442</td>\n",
       "      <td>77.149321</td>\n",
       "      <td>41.855204</td>\n",
       "      <td>11.538462</td>\n",
       "    </tr>\n",
       "    <tr>\n",
       "      <th>47</th>\n",
       "      <td>VA</td>\n",
       "      <td>216.0</td>\n",
       "      <td>109.0</td>\n",
       "      <td>77.0</td>\n",
       "      <td>286</td>\n",
       "      <td>75.524476</td>\n",
       "      <td>38.111888</td>\n",
       "      <td>26.923077</td>\n",
       "    </tr>\n",
       "    <tr>\n",
       "      <th>25</th>\n",
       "      <td>MO</td>\n",
       "      <td>390.0</td>\n",
       "      <td>123.0</td>\n",
       "      <td>62.0</td>\n",
       "      <td>522</td>\n",
       "      <td>74.712644</td>\n",
       "      <td>23.563218</td>\n",
       "      <td>11.877395</td>\n",
       "    </tr>\n",
       "    <tr>\n",
       "      <th>34</th>\n",
       "      <td>NV</td>\n",
       "      <td>50.0</td>\n",
       "      <td>20.0</td>\n",
       "      <td>10.0</td>\n",
       "      <td>67</td>\n",
       "      <td>74.626866</td>\n",
       "      <td>29.850746</td>\n",
       "      <td>14.925373</td>\n",
       "    </tr>\n",
       "    <tr>\n",
       "      <th>49</th>\n",
       "      <td>WA</td>\n",
       "      <td>154.0</td>\n",
       "      <td>92.0</td>\n",
       "      <td>41.0</td>\n",
       "      <td>207</td>\n",
       "      <td>74.396135</td>\n",
       "      <td>44.444444</td>\n",
       "      <td>19.806763</td>\n",
       "    </tr>\n",
       "    <tr>\n",
       "      <th>8</th>\n",
       "      <td>DE</td>\n",
       "      <td>34.0</td>\n",
       "      <td>22.0</td>\n",
       "      <td>12.0</td>\n",
       "      <td>46</td>\n",
       "      <td>73.913043</td>\n",
       "      <td>47.826087</td>\n",
       "      <td>26.086957</td>\n",
       "    </tr>\n",
       "    <tr>\n",
       "      <th>15</th>\n",
       "      <td>IL</td>\n",
       "      <td>523.0</td>\n",
       "      <td>329.0</td>\n",
       "      <td>73.0</td>\n",
       "      <td>723</td>\n",
       "      <td>72.337483</td>\n",
       "      <td>45.504841</td>\n",
       "      <td>10.096819</td>\n",
       "    </tr>\n",
       "    <tr>\n",
       "      <th>7</th>\n",
       "      <td>DC</td>\n",
       "      <td>13.0</td>\n",
       "      <td>2.0</td>\n",
       "      <td>0.0</td>\n",
       "      <td>18</td>\n",
       "      <td>72.222222</td>\n",
       "      <td>11.111111</td>\n",
       "      <td>0.000000</td>\n",
       "    </tr>\n",
       "    <tr>\n",
       "      <th>24</th>\n",
       "      <td>MN</td>\n",
       "      <td>266.0</td>\n",
       "      <td>156.0</td>\n",
       "      <td>42.0</td>\n",
       "      <td>370</td>\n",
       "      <td>71.891892</td>\n",
       "      <td>42.162162</td>\n",
       "      <td>11.351351</td>\n",
       "    </tr>\n",
       "  </tbody>\n",
       "</table>\n",
       "</div>"
      ],
      "text/plain": [
       "   provider_state  infection deficiencies  sore deficiencies  \\\n",
       "11             GU                     1.0                0.0   \n",
       "4              CA                   964.0              317.0   \n",
       "51             WV                    99.0               25.0   \n",
       "14             ID                    66.0               34.0   \n",
       "33             NM                    55.0               21.0   \n",
       "12             HI                    34.0                9.0   \n",
       "23             MI                   341.0              185.0   \n",
       "47             VA                   216.0              109.0   \n",
       "25             MO                   390.0              123.0   \n",
       "34             NV                    50.0               20.0   \n",
       "49             WA                   154.0               92.0   \n",
       "8              DE                    34.0               22.0   \n",
       "15             IL                   523.0              329.0   \n",
       "7              DC                    13.0                2.0   \n",
       "24             MN                   266.0              156.0   \n",
       "\n",
       "    med deficiencies  total_facilities  percent_infection  percent_sores  \\\n",
       "11               0.0                 1         100.000000       0.000000   \n",
       "4              137.0              1193          80.804694      26.571668   \n",
       "51               5.0               123          80.487805      20.325203   \n",
       "14               6.0                82          80.487805      41.463415   \n",
       "33              10.0                71          77.464789      29.577465   \n",
       "12               4.0                44          77.272727      20.454545   \n",
       "23              51.0               442          77.149321      41.855204   \n",
       "47              77.0               286          75.524476      38.111888   \n",
       "25              62.0               522          74.712644      23.563218   \n",
       "34              10.0                67          74.626866      29.850746   \n",
       "49              41.0               207          74.396135      44.444444   \n",
       "8               12.0                46          73.913043      47.826087   \n",
       "15              73.0               723          72.337483      45.504841   \n",
       "7                0.0                18          72.222222      11.111111   \n",
       "24              42.0               370          71.891892      42.162162   \n",
       "\n",
       "    percent_med  \n",
       "11     0.000000  \n",
       "4     11.483655  \n",
       "51     4.065041  \n",
       "14     7.317073  \n",
       "33    14.084507  \n",
       "12     9.090909  \n",
       "23    11.538462  \n",
       "47    26.923077  \n",
       "25    11.877395  \n",
       "34    14.925373  \n",
       "49    19.806763  \n",
       "8     26.086957  \n",
       "15    10.096819  \n",
       "7      0.000000  \n",
       "24    11.351351  "
      ]
     },
     "execution_count": 25,
     "metadata": {},
     "output_type": "execute_result"
    }
   ],
   "source": [
    "(\n",
    "    df\n",
    "    .loc[\n",
    "        lambda x: x[\"inspection_cycle\"].isin([\"1\", \"2\"])\n",
    "    ]\n",
    "    .loc[\n",
    "        lambda x: x[\"standard_deficiency\"] == \"Y\"\n",
    "    ]\n",
    "    .groupby([\"provider_state\", \"federal_provider_number\"])\n",
    "    # get a bool for any provider with thse deficiencies\n",
    "    .pipe(lambda grp: pd.DataFrame(\n",
    "        {\n",
    "            \"infection deficiencies\": grp[\"has_infection\"].any(),\n",
    "            \"sore deficiencies\": grp[\"has_ulcer\"].any(),\n",
    "            \"med deficiencies\": grp[\"has_med\"].any()\n",
    "        })\n",
    "    )\n",
    "    .reset_index()\n",
    "    .groupby(\"provider_state\")\n",
    "    # count the bools\n",
    "    .agg({\n",
    "        \"infection deficiencies\": \"sum\",\n",
    "        \"sore deficiencies\": \"sum\",\n",
    "        \"med deficiencies\": \"sum\"\n",
    "    })\n",
    "    # add in state names\n",
    "    .merge(\n",
    "        state_lookup,\n",
    "        on = \"provider_state\"\n",
    "    )\n",
    "    # calc\n",
    "    .assign(\n",
    "        percent_infection = lambda frame: frame[\"infection deficiencies\"]/frame[\"total_facilities\"] * 100 ,\n",
    "        percent_sores = lambda frame: frame[\"sore deficiencies\"]/frame[\"total_facilities\"] * 100,\n",
    "        percent_med = lambda frame: frame[\"med deficiencies\"]/frame[\"total_facilities\"] * 100\n",
    "    )\n",
    "    .sort_values(\n",
    "        \"percent_infection\",\n",
    "        ascending = False\n",
    "    )\n",
    "    .head(15)\n",
    ")"
   ]
  },
  {
   "cell_type": "markdown",
   "metadata": {},
   "source": [
    "## Examining repeat offenders"
   ]
  },
  {
   "cell_type": "code",
   "execution_count": 26,
   "metadata": {},
   "outputs": [
    {
     "data": {
      "text/html": [
       "<div>\n",
       "<style scoped>\n",
       "    .dataframe tbody tr th:only-of-type {\n",
       "        vertical-align: middle;\n",
       "    }\n",
       "\n",
       "    .dataframe tbody tr th {\n",
       "        vertical-align: top;\n",
       "    }\n",
       "\n",
       "    .dataframe thead tr th {\n",
       "        text-align: left;\n",
       "    }\n",
       "\n",
       "    .dataframe thead tr:last-of-type th {\n",
       "        text-align: right;\n",
       "    }\n",
       "</style>\n",
       "<table border=\"1\" class=\"dataframe\">\n",
       "  <thead>\n",
       "    <tr>\n",
       "      <th></th>\n",
       "      <th colspan=\"3\" halign=\"left\">infection</th>\n",
       "      <th colspan=\"3\" halign=\"left\">ulcer</th>\n",
       "      <th colspan=\"3\" halign=\"left\">med</th>\n",
       "    </tr>\n",
       "    <tr>\n",
       "      <th>inspection_cycle</th>\n",
       "      <th>1</th>\n",
       "      <th>2</th>\n",
       "      <th>3</th>\n",
       "      <th>1</th>\n",
       "      <th>2</th>\n",
       "      <th>3</th>\n",
       "      <th>1</th>\n",
       "      <th>2</th>\n",
       "      <th>3</th>\n",
       "    </tr>\n",
       "    <tr>\n",
       "      <th>federal_provider_number</th>\n",
       "      <th></th>\n",
       "      <th></th>\n",
       "      <th></th>\n",
       "      <th></th>\n",
       "      <th></th>\n",
       "      <th></th>\n",
       "      <th></th>\n",
       "      <th></th>\n",
       "      <th></th>\n",
       "    </tr>\n",
       "  </thead>\n",
       "  <tbody>\n",
       "    <tr>\n",
       "      <th>015009</th>\n",
       "      <td>True</td>\n",
       "      <td>True</td>\n",
       "      <td>NaN</td>\n",
       "      <td>False</td>\n",
       "      <td>False</td>\n",
       "      <td>NaN</td>\n",
       "      <td>False</td>\n",
       "      <td>False</td>\n",
       "      <td>NaN</td>\n",
       "    </tr>\n",
       "    <tr>\n",
       "      <th>015010</th>\n",
       "      <td>True</td>\n",
       "      <td>True</td>\n",
       "      <td>False</td>\n",
       "      <td>False</td>\n",
       "      <td>False</td>\n",
       "      <td>False</td>\n",
       "      <td>False</td>\n",
       "      <td>False</td>\n",
       "      <td>False</td>\n",
       "    </tr>\n",
       "    <tr>\n",
       "      <th>015012</th>\n",
       "      <td>True</td>\n",
       "      <td>True</td>\n",
       "      <td>True</td>\n",
       "      <td>False</td>\n",
       "      <td>False</td>\n",
       "      <td>False</td>\n",
       "      <td>False</td>\n",
       "      <td>False</td>\n",
       "      <td>False</td>\n",
       "    </tr>\n",
       "    <tr>\n",
       "      <th>015014</th>\n",
       "      <td>True</td>\n",
       "      <td>False</td>\n",
       "      <td>True</td>\n",
       "      <td>False</td>\n",
       "      <td>False</td>\n",
       "      <td>False</td>\n",
       "      <td>False</td>\n",
       "      <td>False</td>\n",
       "      <td>False</td>\n",
       "    </tr>\n",
       "    <tr>\n",
       "      <th>015015</th>\n",
       "      <td>False</td>\n",
       "      <td>False</td>\n",
       "      <td>False</td>\n",
       "      <td>False</td>\n",
       "      <td>False</td>\n",
       "      <td>False</td>\n",
       "      <td>False</td>\n",
       "      <td>False</td>\n",
       "      <td>False</td>\n",
       "    </tr>\n",
       "  </tbody>\n",
       "</table>\n",
       "</div>"
      ],
      "text/plain": [
       "                        infection                ulcer                  med  \\\n",
       "inspection_cycle                1      2      3      1      2      3      1   \n",
       "federal_provider_number                                                       \n",
       "015009                       True   True    NaN  False  False    NaN  False   \n",
       "015010                       True   True  False  False  False  False  False   \n",
       "015012                       True   True   True  False  False  False  False   \n",
       "015014                       True  False   True  False  False  False  False   \n",
       "015015                      False  False  False  False  False  False  False   \n",
       "\n",
       "                                       \n",
       "inspection_cycle             2      3  \n",
       "federal_provider_number                \n",
       "015009                   False    NaN  \n",
       "015010                   False  False  \n",
       "015012                   False  False  \n",
       "015014                   False  False  \n",
       "015015                   False  False  "
      ]
     },
     "execution_count": 26,
     "metadata": {},
     "output_type": "execute_result"
    }
   ],
   "source": [
    "# get a bool for each deficiency-cycle\n",
    "per_cycle = (\n",
    "    df\n",
    "    .loc[\n",
    "        lambda x: x[\"standard_deficiency\"] == \"Y\"\n",
    "    ]\n",
    "    .groupby(['federal_provider_number', 'inspection_cycle']).pipe( lambda grp: pd.DataFrame({\n",
    "        \"infection\": grp[\"has_infection\"].sum(),\n",
    "        \"ulcer\": grp[\"has_ulcer\"].sum(),\n",
    "        \"med\": grp[\"has_med\"].sum()\n",
    "    })\n",
    "    .unstack()\n",
    "))\n",
    "\n",
    "per_cycle.head(5)"
   ]
  },
  {
   "cell_type": "code",
   "execution_count": 27,
   "metadata": {},
   "outputs": [],
   "source": [
    "# Helper function for finding repeat offenders\n",
    "def repeats(deficiency, cycles):\n",
    "    total = surveys.loc[\n",
    "        lambda x: x[\"inspection_cycle\"].isin\n",
    "        ( [each for each in range(1, cycles + 1)])\n",
    "    ][\"federal_provider_number\"].nunique()\n",
    "    \n",
    "    if cycles == 2:\n",
    "        return (\n",
    "            per_cycle\n",
    "            [deficiency]\n",
    "            .loc[\n",
    "                lambda x: (x[\"1\"] == True) & (x[\"2\"] == True)\n",
    "            ]\n",
    "            .pipe(len)\n",
    "        ) / total * 100\n",
    "    if cycles == 3:\n",
    "        return (\n",
    "            per_cycle\n",
    "            [deficiency]\n",
    "            .loc[\n",
    "                lambda x: (x[\"1\"] == True) & (x[\"2\"] == True) & (x[\"3\"] == True)\n",
    "            ]\n",
    "            .pipe(len)\n",
    "        ) / total * 100\n",
    "        "
   ]
  },
  {
   "cell_type": "markdown",
   "metadata": {},
   "source": [
    "Percent repeat infection control deficiencies?"
   ]
  },
  {
   "cell_type": "code",
   "execution_count": 28,
   "metadata": {},
   "outputs": [
    {
     "data": {
      "text/plain": [
       "19.545513401527902"
      ]
     },
     "execution_count": 28,
     "metadata": {},
     "output_type": "execute_result"
    }
   ],
   "source": [
    "repeats(\"infection\", 2)"
   ]
  },
  {
   "cell_type": "code",
   "execution_count": 29,
   "metadata": {},
   "outputs": [
    {
     "data": {
      "text/plain": [
       "9.78894212093746"
      ]
     },
     "execution_count": 29,
     "metadata": {},
     "output_type": "execute_result"
    }
   ],
   "source": [
    "repeats(\"infection\", 3)"
   ]
  },
  {
   "cell_type": "markdown",
   "metadata": {},
   "source": [
    "Percent repeat pressure sore deficiencies?"
   ]
  },
  {
   "cell_type": "code",
   "execution_count": 30,
   "metadata": {},
   "outputs": [
    {
     "data": {
      "text/plain": [
       "2.861582286676162"
      ]
     },
     "execution_count": 30,
     "metadata": {},
     "output_type": "execute_result"
    }
   ],
   "source": [
    "repeats(\"ulcer\", 2)"
   ]
  },
  {
   "cell_type": "code",
   "execution_count": 31,
   "metadata": {},
   "outputs": [
    {
     "data": {
      "text/plain": [
       "0.9711252104104623"
      ]
     },
     "execution_count": 31,
     "metadata": {},
     "output_type": "execute_result"
    }
   ],
   "source": [
    "repeats(\"ulcer\", 3)"
   ]
  },
  {
   "cell_type": "markdown",
   "metadata": {},
   "source": [
    "Percent repeat medication errors?"
   ]
  },
  {
   "cell_type": "code",
   "execution_count": 32,
   "metadata": {},
   "outputs": [
    {
     "data": {
      "text/plain": [
       "0.5049851094134403"
      ]
     },
     "execution_count": 32,
     "metadata": {},
     "output_type": "execute_result"
    }
   ],
   "source": [
    "repeats(\"med\", 2)"
   ]
  },
  {
   "cell_type": "code",
   "execution_count": 33,
   "metadata": {},
   "outputs": [
    {
     "data": {
      "text/plain": [
       "0.12300919331865855"
      ]
     },
     "execution_count": 33,
     "metadata": {},
     "output_type": "execute_result"
    }
   ],
   "source": [
    "repeats(\"med\", 3)"
   ]
  },
  {
   "cell_type": "markdown",
   "metadata": {},
   "source": [
    "---\n",
    "\n",
    "---\n",
    "\n",
    "---"
   ]
  }
 ],
 "metadata": {
  "kernelspec": {
   "display_name": "Python 3",
   "language": "python",
   "name": "python3"
  },
  "language_info": {
   "codemirror_mode": {
    "name": "ipython",
    "version": 3
   },
   "file_extension": ".py",
   "mimetype": "text/x-python",
   "name": "python",
   "nbconvert_exporter": "python",
   "pygments_lexer": "ipython3",
   "version": "3.8.0"
  }
 },
 "nbformat": 4,
 "nbformat_minor": 4
}
