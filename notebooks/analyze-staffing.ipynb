{
 "cells": [
  {
   "cell_type": "markdown",
   "metadata": {},
   "source": [
    "Staffing levels of nursing homes"
   ]
  },
  {
   "cell_type": "code",
   "execution_count": 1,
   "metadata": {},
   "outputs": [],
   "source": [
    "import pandas as pd"
   ]
  },
  {
   "cell_type": "markdown",
   "metadata": {},
   "source": [
    "Provider info dataset: https://data.medicare.gov/Nursing-Home-Compare/Provider-Info/4pq5-n9py"
   ]
  },
  {
   "cell_type": "markdown",
   "metadata": {},
   "source": [
    "CMS minimum standards: https://www.ncbi.nlm.nih.gov/pmc/articles/PMC4833431/"
   ]
  },
  {
   "cell_type": "code",
   "execution_count": 2,
   "metadata": {},
   "outputs": [],
   "source": [
    "df = pd.read_csv(\n",
    "    \"../data/staffing.csv\",\n",
    "    parse_dates = [\"processing_date\"]\n",
    ")"
   ]
  },
  {
   "cell_type": "markdown",
   "metadata": {},
   "source": [
    "What percent of all nursing homes are below the CMS guidelines for staffing?"
   ]
  },
  {
   "cell_type": "code",
   "execution_count": 3,
   "metadata": {},
   "outputs": [],
   "source": [
    "# Remove facilities with footnotes that indicate unreliable staffing data\n",
    "verified = (\n",
    "    df\n",
    "    .loc[\n",
    "        lambda x: ~x[\"staffing_rating_footnote\"].isin([1, 2, 12, 18])\n",
    "    ]\n",
    ")"
   ]
  },
  {
   "cell_type": "code",
   "execution_count": 4,
   "metadata": {},
   "outputs": [
    {
     "data": {
      "text/html": [
       "<div>\n",
       "<style scoped>\n",
       "    .dataframe tbody tr th:only-of-type {\n",
       "        vertical-align: middle;\n",
       "    }\n",
       "\n",
       "    .dataframe tbody tr th {\n",
       "        vertical-align: top;\n",
       "    }\n",
       "\n",
       "    .dataframe thead th {\n",
       "        text-align: right;\n",
       "    }\n",
       "</style>\n",
       "<table border=\"1\" class=\"dataframe\">\n",
       "  <thead>\n",
       "    <tr style=\"text-align: right;\">\n",
       "      <th></th>\n",
       "      <th>provider_state</th>\n",
       "      <th>federal_provider_number</th>\n",
       "      <th>below_total</th>\n",
       "      <th>below_rn</th>\n",
       "      <th>below_lpn</th>\n",
       "      <th>below_nurse_aid</th>\n",
       "    </tr>\n",
       "  </thead>\n",
       "  <tbody>\n",
       "    <tr>\n",
       "      <th>0</th>\n",
       "      <td>AL</td>\n",
       "      <td>015407</td>\n",
       "      <td>True</td>\n",
       "      <td>True</td>\n",
       "      <td>True</td>\n",
       "      <td>True</td>\n",
       "    </tr>\n",
       "    <tr>\n",
       "      <th>3</th>\n",
       "      <td>CT</td>\n",
       "      <td>075322</td>\n",
       "      <td>False</td>\n",
       "      <td>False</td>\n",
       "      <td>True</td>\n",
       "      <td>False</td>\n",
       "    </tr>\n",
       "    <tr>\n",
       "      <th>5</th>\n",
       "      <td>FL</td>\n",
       "      <td>105393</td>\n",
       "      <td>False</td>\n",
       "      <td>True</td>\n",
       "      <td>False</td>\n",
       "      <td>True</td>\n",
       "    </tr>\n",
       "    <tr>\n",
       "      <th>7</th>\n",
       "      <td>GA</td>\n",
       "      <td>115404</td>\n",
       "      <td>True</td>\n",
       "      <td>True</td>\n",
       "      <td>False</td>\n",
       "      <td>True</td>\n",
       "    </tr>\n",
       "    <tr>\n",
       "      <th>8</th>\n",
       "      <td>GA</td>\n",
       "      <td>115533</td>\n",
       "      <td>True</td>\n",
       "      <td>True</td>\n",
       "      <td>False</td>\n",
       "      <td>True</td>\n",
       "    </tr>\n",
       "  </tbody>\n",
       "</table>\n",
       "</div>"
      ],
      "text/plain": [
       "  provider_state federal_provider_number  below_total  below_rn  below_lpn  \\\n",
       "0             AL                  015407         True      True       True   \n",
       "3             CT                  075322        False     False       True   \n",
       "5             FL                  105393        False      True      False   \n",
       "7             GA                  115404         True      True      False   \n",
       "8             GA                  115533         True      True      False   \n",
       "\n",
       "   below_nurse_aid  \n",
       "0             True  \n",
       "3            False  \n",
       "5             True  \n",
       "7             True  \n",
       "8             True  "
      ]
     },
     "execution_count": 4,
     "metadata": {},
     "output_type": "execute_result"
    }
   ],
   "source": [
    "# Pre calculate\n",
    "BELOW_CALCS = dict(\n",
    "    below_total = lambda x: x[\"reported_total_nurse_staffing_hours_per_resident_per_day\"] < 4.1,\n",
    "    below_rn = lambda x: x[\"reported_rn_staffing_hours_per_resident_per_day\"] < 0.75,\n",
    "    below_lpn = lambda x: x[\"reported_lpn_staffing_hours_per_resident_per_day\"] < 0.55,\n",
    "    below_nurse_aid = lambda x: x[\"reported_cna_staffing_hours_per_resident_per_day\"] < 2.8,\n",
    ")\n",
    "\n",
    "provider_tests = (\n",
    "    verified\n",
    "    .assign(**BELOW_CALCS)\n",
    "    [[\n",
    "        \"provider_state\",\n",
    "        \"federal_provider_number\",\n",
    "    ] + list(BELOW_CALCS.keys())]\n",
    ")\n",
    "\n",
    "provider_tests.head()"
   ]
  },
  {
   "cell_type": "code",
   "execution_count": 5,
   "metadata": {},
   "outputs": [
    {
     "data": {
      "text/plain": [
       "below_total        0.701722\n",
       "below_rn           0.684927\n",
       "below_lpn          0.163773\n",
       "below_nurse_aid    0.848204\n",
       "dtype: float64"
      ]
     },
     "execution_count": 5,
     "metadata": {},
     "output_type": "execute_result"
    }
   ],
   "source": [
    "(\n",
    "    provider_tests\n",
    "    [list(BELOW_CALCS.keys())]\n",
    "    .mean()\n",
    ")"
   ]
  },
  {
   "cell_type": "markdown",
   "metadata": {},
   "source": [
    "By state"
   ]
  },
  {
   "cell_type": "code",
   "execution_count": 6,
   "metadata": {},
   "outputs": [
    {
     "data": {
      "text/html": [
       "<div>\n",
       "<style scoped>\n",
       "    .dataframe tbody tr th:only-of-type {\n",
       "        vertical-align: middle;\n",
       "    }\n",
       "\n",
       "    .dataframe tbody tr th {\n",
       "        vertical-align: top;\n",
       "    }\n",
       "\n",
       "    .dataframe thead th {\n",
       "        text-align: right;\n",
       "    }\n",
       "</style>\n",
       "<table border=\"1\" class=\"dataframe\">\n",
       "  <thead>\n",
       "    <tr style=\"text-align: right;\">\n",
       "      <th></th>\n",
       "      <th>below_total</th>\n",
       "      <th>below_rn</th>\n",
       "      <th>below_lpn</th>\n",
       "      <th>below_nurse_aid</th>\n",
       "    </tr>\n",
       "    <tr>\n",
       "      <th>provider_state</th>\n",
       "      <th></th>\n",
       "      <th></th>\n",
       "      <th></th>\n",
       "      <th></th>\n",
       "    </tr>\n",
       "  </thead>\n",
       "  <tbody>\n",
       "    <tr>\n",
       "      <th>TX</th>\n",
       "      <td>0.88</td>\n",
       "      <td>0.93</td>\n",
       "      <td>0.02</td>\n",
       "      <td>0.94</td>\n",
       "    </tr>\n",
       "    <tr>\n",
       "      <th>GA</th>\n",
       "      <td>0.86</td>\n",
       "      <td>0.96</td>\n",
       "      <td>0.00</td>\n",
       "      <td>0.97</td>\n",
       "    </tr>\n",
       "    <tr>\n",
       "      <th>MO</th>\n",
       "      <td>0.85</td>\n",
       "      <td>0.91</td>\n",
       "      <td>0.26</td>\n",
       "      <td>0.89</td>\n",
       "    </tr>\n",
       "    <tr>\n",
       "      <th>OK</th>\n",
       "      <td>0.84</td>\n",
       "      <td>0.99</td>\n",
       "      <td>0.05</td>\n",
       "      <td>0.85</td>\n",
       "    </tr>\n",
       "    <tr>\n",
       "      <th>LA</th>\n",
       "      <td>0.84</td>\n",
       "      <td>0.97</td>\n",
       "      <td>0.01</td>\n",
       "      <td>0.92</td>\n",
       "    </tr>\n",
       "    <tr>\n",
       "      <th>NM</th>\n",
       "      <td>0.83</td>\n",
       "      <td>0.68</td>\n",
       "      <td>0.54</td>\n",
       "      <td>0.86</td>\n",
       "    </tr>\n",
       "    <tr>\n",
       "      <th>IN</th>\n",
       "      <td>0.83</td>\n",
       "      <td>0.70</td>\n",
       "      <td>0.09</td>\n",
       "      <td>0.93</td>\n",
       "    </tr>\n",
       "    <tr>\n",
       "      <th>RI</th>\n",
       "      <td>0.82</td>\n",
       "      <td>0.33</td>\n",
       "      <td>0.82</td>\n",
       "      <td>0.78</td>\n",
       "    </tr>\n",
       "    <tr>\n",
       "      <th>IL</th>\n",
       "      <td>0.81</td>\n",
       "      <td>0.62</td>\n",
       "      <td>0.38</td>\n",
       "      <td>0.90</td>\n",
       "    </tr>\n",
       "    <tr>\n",
       "      <th>SD</th>\n",
       "      <td>0.80</td>\n",
       "      <td>0.54</td>\n",
       "      <td>0.79</td>\n",
       "      <td>0.78</td>\n",
       "    </tr>\n",
       "  </tbody>\n",
       "</table>\n",
       "</div>"
      ],
      "text/plain": [
       "                below_total  below_rn  below_lpn  below_nurse_aid\n",
       "provider_state                                                   \n",
       "TX                     0.88      0.93       0.02             0.94\n",
       "GA                     0.86      0.96       0.00             0.97\n",
       "MO                     0.85      0.91       0.26             0.89\n",
       "OK                     0.84      0.99       0.05             0.85\n",
       "LA                     0.84      0.97       0.01             0.92\n",
       "NM                     0.83      0.68       0.54             0.86\n",
       "IN                     0.83      0.70       0.09             0.93\n",
       "RI                     0.82      0.33       0.82             0.78\n",
       "IL                     0.81      0.62       0.38             0.90\n",
       "SD                     0.80      0.54       0.79             0.78"
      ]
     },
     "execution_count": 6,
     "metadata": {},
     "output_type": "execute_result"
    }
   ],
   "source": [
    "(\n",
    "    provider_tests\n",
    "    .groupby([ \"provider_state\" ])\n",
    "    [list(BELOW_CALCS.keys())]\n",
    "    .mean()\n",
    "    .sort_values(\"below_total\", ascending = False)\n",
    "    .round(2)\n",
    "    .head(10)\n",
    ")"
   ]
  },
  {
   "cell_type": "markdown",
   "metadata": {},
   "source": [
    "---\n",
    "\n",
    "---\n",
    "\n",
    "---"
   ]
  }
 ],
 "metadata": {
  "kernelspec": {
   "display_name": "Python 3",
   "language": "python",
   "name": "python3"
  },
  "language_info": {
   "codemirror_mode": {
    "name": "ipython",
    "version": 3
   },
   "file_extension": ".py",
   "mimetype": "text/x-python",
   "name": "python",
   "nbconvert_exporter": "python",
   "pygments_lexer": "ipython3",
   "version": "3.8.0"
  }
 },
 "nbformat": 4,
 "nbformat_minor": 4
}
